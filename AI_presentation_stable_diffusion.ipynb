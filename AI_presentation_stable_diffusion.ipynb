{
 "cells": [
  {
   "cell_type": "code",
   "execution_count": 1,
   "metadata": {
    "colab": {
     "base_uri": "https://localhost:8080/"
    },
    "id": "U4eDTsNWkd1H",
    "outputId": "6c8457cd-cbdc-4804-860a-ae14580120b2"
   },
   "outputs": [
    {
     "name": "stdout",
     "output_type": "stream",
     "text": [
      "Looking in indexes: https://pypi.org/simple, https://us-python.pkg.dev/colab-wheels/public/simple/\n",
      "Requirement already satisfied: pip in /usr/local/lib/python3.10/dist-packages (23.1.2)\n",
      "Looking in indexes: https://pypi.org/simple, https://us-python.pkg.dev/colab-wheels/public/simple/\n",
      "Requirement already satisfied: openai==0.27.2 in /usr/local/lib/python3.10/dist-packages (0.27.2)\n",
      "Requirement already satisfied: requests>=2.20 in /usr/local/lib/python3.10/dist-packages (from openai==0.27.2) (2.27.1)\n",
      "Requirement already satisfied: tqdm in /usr/local/lib/python3.10/dist-packages (from openai==0.27.2) (4.65.0)\n",
      "Requirement already satisfied: aiohttp in /usr/local/lib/python3.10/dist-packages (from openai==0.27.2) (3.8.4)\n",
      "Requirement already satisfied: urllib3<1.27,>=1.21.1 in /usr/local/lib/python3.10/dist-packages (from requests>=2.20->openai==0.27.2) (1.26.15)\n",
      "Requirement already satisfied: certifi>=2017.4.17 in /usr/local/lib/python3.10/dist-packages (from requests>=2.20->openai==0.27.2) (2022.12.7)\n",
      "Requirement already satisfied: charset-normalizer~=2.0.0 in /usr/local/lib/python3.10/dist-packages (from requests>=2.20->openai==0.27.2) (2.0.12)\n",
      "Requirement already satisfied: idna<4,>=2.5 in /usr/local/lib/python3.10/dist-packages (from requests>=2.20->openai==0.27.2) (3.4)\n",
      "Requirement already satisfied: attrs>=17.3.0 in /usr/local/lib/python3.10/dist-packages (from aiohttp->openai==0.27.2) (23.1.0)\n",
      "Requirement already satisfied: multidict<7.0,>=4.5 in /usr/local/lib/python3.10/dist-packages (from aiohttp->openai==0.27.2) (6.0.4)\n",
      "Requirement already satisfied: async-timeout<5.0,>=4.0.0a3 in /usr/local/lib/python3.10/dist-packages (from aiohttp->openai==0.27.2) (4.0.2)\n",
      "Requirement already satisfied: yarl<2.0,>=1.0 in /usr/local/lib/python3.10/dist-packages (from aiohttp->openai==0.27.2) (1.9.2)\n",
      "Requirement already satisfied: frozenlist>=1.1.1 in /usr/local/lib/python3.10/dist-packages (from aiohttp->openai==0.27.2) (1.3.3)\n",
      "Requirement already satisfied: aiosignal>=1.1.2 in /usr/local/lib/python3.10/dist-packages (from aiohttp->openai==0.27.2) (1.3.1)\n",
      "Looking in indexes: https://pypi.org/simple, https://us-python.pkg.dev/colab-wheels/public/simple/\n",
      "Requirement already satisfied: stability-sdk in /usr/local/lib/python3.10/dist-packages (0.7.0)\n",
      "Requirement already satisfied: Pillow in /usr/local/lib/python3.10/dist-packages (from stability-sdk) (8.4.0)\n",
      "Requirement already satisfied: grpcio==1.53.0 in /usr/local/lib/python3.10/dist-packages (from stability-sdk) (1.53.0)\n",
      "Requirement already satisfied: grpcio-tools==1.53.0 in /usr/local/lib/python3.10/dist-packages (from stability-sdk) (1.53.0)\n",
      "Requirement already satisfied: python-dotenv in /usr/local/lib/python3.10/dist-packages (from stability-sdk) (1.0.0)\n",
      "Requirement already satisfied: protobuf==4.21.12 in /usr/local/lib/python3.10/dist-packages (from stability-sdk) (4.21.12)\n",
      "Requirement already satisfied: setuptools in /usr/local/lib/python3.10/dist-packages (from grpcio-tools==1.53.0->stability-sdk) (67.7.2)\n",
      "Looking in indexes: https://pypi.org/simple, https://us-python.pkg.dev/colab-wheels/public/simple/\n",
      "Requirement already satisfied: python_pptx in /usr/local/lib/python3.10/dist-packages (0.6.21)\n",
      "Requirement already satisfied: lxml>=3.1.0 in /usr/local/lib/python3.10/dist-packages (from python_pptx) (4.9.2)\n",
      "Requirement already satisfied: Pillow>=3.3.2 in /usr/local/lib/python3.10/dist-packages (from python_pptx) (8.4.0)\n",
      "Requirement already satisfied: XlsxWriter>=0.5.7 in /usr/local/lib/python3.10/dist-packages (from python_pptx) (3.1.0)\n",
      "Looking in indexes: https://pypi.org/simple, https://us-python.pkg.dev/colab-wheels/public/simple/\n",
      "Requirement already satisfied: transformers in /usr/local/lib/python3.10/dist-packages (4.29.0)\n",
      "Requirement already satisfied: filelock in /usr/local/lib/python3.10/dist-packages (from transformers) (3.12.0)\n",
      "Requirement already satisfied: huggingface-hub<1.0,>=0.11.0 in /usr/local/lib/python3.10/dist-packages (from transformers) (0.14.1)\n",
      "Requirement already satisfied: numpy>=1.17 in /usr/local/lib/python3.10/dist-packages (from transformers) (1.22.4)\n",
      "Requirement already satisfied: packaging>=20.0 in /usr/local/lib/python3.10/dist-packages (from transformers) (23.1)\n",
      "Requirement already satisfied: pyyaml>=5.1 in /usr/local/lib/python3.10/dist-packages (from transformers) (6.0)\n",
      "Requirement already satisfied: regex!=2019.12.17 in /usr/local/lib/python3.10/dist-packages (from transformers) (2022.10.31)\n",
      "Requirement already satisfied: requests in /usr/local/lib/python3.10/dist-packages (from transformers) (2.27.1)\n",
      "Requirement already satisfied: tokenizers!=0.11.3,<0.14,>=0.11.1 in /usr/local/lib/python3.10/dist-packages (from transformers) (0.13.3)\n",
      "Requirement already satisfied: tqdm>=4.27 in /usr/local/lib/python3.10/dist-packages (from transformers) (4.65.0)\n",
      "Requirement already satisfied: fsspec in /usr/local/lib/python3.10/dist-packages (from huggingface-hub<1.0,>=0.11.0->transformers) (2023.4.0)\n",
      "Requirement already satisfied: typing-extensions>=3.7.4.3 in /usr/local/lib/python3.10/dist-packages (from huggingface-hub<1.0,>=0.11.0->transformers) (4.5.0)\n",
      "Requirement already satisfied: urllib3<1.27,>=1.21.1 in /usr/local/lib/python3.10/dist-packages (from requests->transformers) (1.26.15)\n",
      "Requirement already satisfied: certifi>=2017.4.17 in /usr/local/lib/python3.10/dist-packages (from requests->transformers) (2022.12.7)\n",
      "Requirement already satisfied: charset-normalizer~=2.0.0 in /usr/local/lib/python3.10/dist-packages (from requests->transformers) (2.0.12)\n",
      "Requirement already satisfied: idna<4,>=2.5 in /usr/local/lib/python3.10/dist-packages (from requests->transformers) (3.4)\n"
     ]
    }
   ],
   "source": [
    "!pip install --upgrade pip\n",
    "!3\n",
    "!pip install stability-sdk\n",
    "!pip install python_pptx\n",
    "!pip install transformers\n",
    "#!pip install xformers"
   ]
  },
  {
   "cell_type": "code",
   "execution_count": 2,
   "metadata": {
    "colab": {
     "base_uri": "https://localhost:8080/"
    },
    "id": "RzyHAumGkDno",
    "outputId": "7d4c97be-9c68-4d77-ea16-e8ff8a7e5932"
   },
   "outputs": [
    {
     "name": "stderr",
     "output_type": "stream",
     "text": [
      "Some weights of the model checkpoint at roberta-large-mnli were not used when initializing RobertaForSequenceClassification: ['roberta.pooler.dense.weight', 'roberta.pooler.dense.bias']\n",
      "- This IS expected if you are initializing RobertaForSequenceClassification from the checkpoint of a model trained on another task or with another architecture (e.g. initializing a BertForSequenceClassification model from a BertForPreTraining model).\n",
      "- This IS NOT expected if you are initializing RobertaForSequenceClassification from the checkpoint of a model that you expect to be exactly identical (initializing a BertForSequenceClassification model from a BertForSequenceClassification model).\n",
      "Xformers is not installed correctly. If you want to use memorry_efficient_attention to accelerate training use the following command to install Xformers\n",
      "pip install xformers.\n"
     ]
    }
   ],
   "source": [
    "import openai\n",
    "import json\n",
    "import os\n",
    "import io\n",
    "import requests\n",
    "import shutil\n",
    "from transformers import pipeline\n",
    "from pptx import Presentation\n",
    "from pptx.util import Inches\n",
    "from PIL import Image\n",
    "from pptx.util import Pt\n",
    "from stability_sdk import client\n",
    "from pptx.enum.text import PP_ALIGN\n",
    "from pptx.dml.color import RGBColor\n",
    "from pptx.enum.shapes import MSO_SHAPE\n",
    "from pptx.enum.text import MSO_AUTO_SIZE\n",
    "import stability_sdk.interfaces.gooseai.generation.generation_pb2 as generation\n",
    "\n",
    "os.environ['STABILITY_HOST'] = \"grpc.stability.ai:443\"\n",
    "os.environ['STABILITY_KEY'] = \"YOUR_API_KEY\"\n",
    "api_key_unsplash = \"YOUR_API_KEY\"\n",
    "api_key_pixabay = \"YOUR_API_KEY\"\n",
    "api_key_pexels = \"YOUR_API_KEY\"\n",
    "openai.api_key=\"YOUR_API_KEY\"\n",
    "api_key_flickr = \"YOUR_API_KEY\"\n",
    "nli_pipeline = pipeline(\"text-classification\", model=\"roberta-large-mnli\")"
   ]
  },
  {
   "cell_type": "code",
   "execution_count": 3,
   "metadata": {
    "id": "eFPVbtW-kc-_"
   },
   "outputs": [],
   "source": [
    "\n",
    "industry = \"Digital Marketing\" \n",
    "topic = \"Advantages and disadvantages of gorilla marketing\"\n",
    "purpose = \"To educate students\"\n",
    "tone = \"professional and informative\"\n"
   ]
  },
  {
   "cell_type": "code",
   "execution_count": 4,
   "metadata": {
    "id": "vzrm5d8Wk7oO"
   },
   "outputs": [],
   "source": [
    "def generate_ppt(industry:str, purpose: str, topic: str, tone: str):\n",
    "  prompt = \"\"\"Create content for a presentation for following industry, purpose, on the following topic in the given tone. Also include a title slide, give outline of the slide, description of each slide, a pictorial representation describing the image with details to be included in each slide, along with bullet points and include a conclusion slide. Give the output in the format of a python dictionary, and use \" instead of ' wherever required.\n",
    "\"\"\n",
    "Example:\n",
    "Industry: Dental Hygiene\n",
    "Purpose: To pitch to kids\n",
    "Topic: Toothbrush\n",
    "Tone: Professional\n",
    "{\"title_slide\": {\n",
    "        \"title\": \"Discover the Magic of Toothbrushes\",\n",
    "        \"subtitle\": \"A fun journey to healthy teeth\"\n",
    "    },\n",
    "    \"outline_slide\": {\n",
    "        \"title\": \"Presentation Outline\",\n",
    "        \"bullet_points\": [\n",
    "            \"Why do we need to brush our teeth?\",\n",
    "            \"Introducing the toothbrush\",\n",
    "            \"Types of toothbrushes\",\n",
    "            \"How to choose the right toothbrush\",\n",
    "            \"Proper brushing techniques\",\n",
    "            \"Conclusion\"\n",
    "        ]\n",
    "    },\n",
    "    \"slide1\": {\n",
    "        \"title\": \"Why do we need to brush our teeth?\",\n",
    "        \"description\": \"Brushing is a very important habit to keep.\",\n",
    "        \"image\": \"A cartoon image of healthy teeth smiling\",\n",
    "        \"bullet_points\": [\n",
    "            \"Remove food particles\",\n",
    "            \"Prevent tooth decay\",\n",
    "            \"Keep gums healthy\",\n",
    "            \"Avoid bad breath\",\n",
    "            \"Maintain overall oral hygiene\"\n",
    "        ]\n",
    "    },\n",
    "    \"conclusion_slide\": {\n",
    "        \"title\": \"Conclusion\",\n",
    "        \"description\": \"Brushing keeps your mouth clean and free from diseases.\",\n",
    "        \"image\": \"A happy child with a toothbrush and sparkling clean teeth\",\n",
    "        \"bullet_points\": [\n",
    "            \"Choose the right toothbrush\",\n",
    "            \"Learn proper brushing techniques\",\n",
    "            \"Keep your teeth and gums healthy\",\n",
    "            \"Enjoy a beautiful smile\"\n",
    "        ]\n",
    "    }\n",
    "}\n",
    "\"\"\n",
    "\"\"\"\n",
    "  response = openai.ChatCompletion.create(\n",
    "  model=\"gpt-4\",\n",
    "  messages=[\n",
    "      {\"role\": \"user\", \"content\": f\"{prompt}\\nIndutry:{industry}\\nPurpose:{purpose}\\nTopic{topic}\\nTone:{tone}\\n\"}\n",
    "      ],\n",
    "  temperature = 0.8,\n",
    "  n = 1,\n",
    "  max_tokens = 1256\n",
    "  )\n",
    "\n",
    "  return json.loads(response[\"choices\"][0][\"message\"][\"content\"])"
   ]
  },
  {
   "cell_type": "code",
   "execution_count": 5,
   "metadata": {
    "id": "29a-6o40lAYG"
   },
   "outputs": [],
   "source": [
    "def get_ai_img_for_ppt(prompt: str):\n",
    "  stability_api = client.StabilityInference(\n",
    "    key=os.environ['STABILITY_KEY'], \n",
    "    verbose=False, \n",
    "    engine=\"stable-diffusion-768-v2-1\")\n",
    "  \n",
    "  prompt_str = [generation.Prompt(text=f\"epic award winning photo of {prompt}\",parameters=generation.PromptParameters(weight=1)), generation.Prompt(text=\"cinematic atmosphere, high contrast\",parameters=generation.PromptParameters(weight=1.9)), generation.Prompt(text=\"best quality, photorealistic, cinematic, movie quality, octane render\",parameters=generation.PromptParameters(weight=1.2)), generation.Prompt(text=\"dark theme, vfx post production, rtx ray tracing lighting, ultra realistc, 8k detailed post processing, unreal engine, hyper-detailed, cinematic 8k, canon eos 5D\",parameters=generation.PromptParameters(weight=1.3)), generation.Prompt(text=\"cgi, fake, render, painting, illustration, unrealistic, not realistic, cropped, lowres, low resolution, bad quality\",parameters=generation.PromptParameters(weight=-1.8)), generation.Prompt(text=\"3D render, worst quality, low quality, bad lighting, average lighting\",parameters=generation.PromptParameters(weight=-1.7))] \n",
    "  \n",
    "  answers = stability_api.generate(\n",
    "    prompt=prompt_str,\n",
    "    seed=992446758, \n",
    "    steps=120, \n",
    "    cfg_scale=14.0, \n",
    "    width=512, \n",
    "    height=512, \n",
    "    samples=1, \n",
    "    sampler=generation.SAMPLER_K_DPMPP_2M)\n",
    "  \n",
    "  for resp in answers:\n",
    "    for artifact in resp.artifacts:\n",
    "        if artifact.type == generation.ARTIFACT_IMAGE:\n",
    "            return io.BytesIO(artifact.binary)"
   ]
  },
  {
   "cell_type": "code",
   "execution_count": 6,
   "metadata": {
    "id": "xYT1u95ijNf8"
   },
   "outputs": [],
   "source": [
    "def get_unsplash_img_for_ppt(query: str): \n",
    "  image_url = \"\"\n",
    "\n",
    "  response = requests.get(f'https://api.unsplash.com/search/photos?query={query}&client_id={api_key_unsplash}')\n",
    "\n",
    "  if response.status_code == 200:\n",
    "      data = response.json()\n",
    "      image_url = data['results'][0]['urls']['regular']\n",
    "\n",
    "  return image_url"
   ]
  },
  {
   "cell_type": "code",
   "execution_count": 7,
   "metadata": {
    "id": "by95Joi7r-C4"
   },
   "outputs": [],
   "source": [
    "def get_pixabay_img_for_ppt(query: str): \n",
    "  image_url = \"\"\n",
    "\n",
    "  response = requests.get(f\"https://pixabay.com/api/?key={api_key_pixabay}&q={query}\")\n",
    "\n",
    "  if response.status_code == 200:\n",
    "      data = response.json()\n",
    "      image_url = [image['webformatURL'] for image in data['hits']]\n",
    "\n",
    "  return image_url[0]"
   ]
  },
  {
   "cell_type": "code",
   "execution_count": 8,
   "metadata": {
    "id": "R7k23rPFulll"
   },
   "outputs": [],
   "source": [
    "def get_pexels_img_for_ppt(query: str):\n",
    "  image_url = \"\"\n",
    "  headers = {\n",
    "    \"Authorization\": api_key_pexels\n",
    "  }\n",
    "  response = requests.get(f\"https://api.pexels.com/v1/search?query={query}\", headers=headers)\n",
    "\n",
    "  if response.status_code == 200:\n",
    "    data = response.json()\n",
    "    image_url = [photo['src']['medium'] for photo in data['photos']]\n",
    "\n",
    "  return image_url[0]"
   ]
  },
  {
   "cell_type": "code",
   "execution_count": 9,
   "metadata": {
    "id": "_hiludra_mJT"
   },
   "outputs": [],
   "source": [
    "def get_flickr_img_for_ppt(query: str):\n",
    "  per_page = 1\n",
    "  format_type = 'json'\n",
    "  nojsoncallback = 1\n",
    "\n",
    "  response = requests.get(f\"https://api.flickr.com/services/rest/?method=flickr.photos.search&api_key={api_key_flickr}&text={query}&per_page={per_page}&format={format_type}&nojsoncallback={nojsoncallback}\")\n",
    "\n",
    "  data = json.loads(response.text)\n",
    "  if data['stat'] == 'ok':\n",
    "    photo = data['photos']['photo'][0]\n",
    "    farm_id = photo['farm']\n",
    "    server_id = photo['server']\n",
    "    photo_id = photo['id']\n",
    "    secret = photo['secret']\n",
    "    size = 'm'  \n",
    "\n",
    "    image_url = f\"https://farm{farm_id}.staticflickr.com/{server_id}/{photo_id}_{secret}_{size}.jpg\"\n",
    "\n",
    "  return image_url"
   ]
  },
  {
   "cell_type": "code",
   "execution_count": 10,
   "metadata": {
    "id": "7BBVEGhv-LZo"
   },
   "outputs": [],
   "source": [
    "def is_question(sentence):\n",
    "    hypothesis = \"This must be treated as a question.\"\n",
    "\n",
    "    result = nli_pipeline(sentence, hypothesis, top_k=1)\n",
    "    if result[0][\"score\"] > 0.55:\n",
    "        return True\n",
    "    else:\n",
    "        return False"
   ]
  },
  {
   "cell_type": "code",
   "execution_count": 11,
   "metadata": {
    "id": "VLw5Mcpq-Pi8"
   },
   "outputs": [],
   "source": [
    "def get_question_explainer(prompt: str, topic: str):\n",
    "  response = openai.ChatCompletion.create(\n",
    "      model=\"gpt-3.5-turbo\",\n",
    "      messages=[\n",
    "          {\"role\": \"user\", \"content\": f\"Give factual answer on {prompt} from perspective of {topic} in 1 sentence. No incomplete sentences.\"}\n",
    "      ],\n",
    "      temperature = 0.8,\n",
    "      n=1,\n",
    "      max_tokens=60,\n",
    "      frequency_penalty=1.19,\n",
    "      presence_penalty=1.68\n",
    "  )\n",
    "  return response[\"choices\"][0][\"message\"][\"content\"]"
   ]
  },
  {
   "cell_type": "code",
   "execution_count": 12,
   "metadata": {
    "id": "220JZgtHoM_G"
   },
   "outputs": [],
   "source": [
    "def get_point_explainer(prompt: str):\n",
    "  response = openai.ChatCompletion.create(\n",
    "      model=\"gpt-3.5-turbo\",\n",
    "      messages=[\n",
    "          {\"role\": \"user\", \"content\": f\"Give a 1 sentence explanation on the below topic. No incomplete sentences.\\nTopic:{prompt}\\n\"}\n",
    "      ],\n",
    "      temperature = 0.8,\n",
    "      n=1,\n",
    "      max_tokens=30,\n",
    "      frequency_penalty=1.19,\n",
    "      presence_penalty=1.68\n",
    "  )\n",
    "  return response[\"choices\"][0][\"message\"][\"content\"]"
   ]
  },
  {
   "cell_type": "code",
   "execution_count": 13,
   "metadata": {
    "id": "dLrvfHQblU-_"
   },
   "outputs": [],
   "source": [
    "def get_ppt(industry: str, purpose: str, topic: str, tone: str, image = \"AI\", font_size = 16, slide_colour = RGBColor(80, 80, 80), font_colour = RGBColor(255, 255, 255), font_style = \"Calibri\"):\n",
    "  ppt_info = generate_ppt(industry, purpose, topic, tone)\n",
    "  # Create a new PowerPoint presentation\n",
    "  presentation = Presentation()\n",
    "  presentation.slide_width = Inches(13.33)\n",
    "  presentation.slide_height = Inches(7.5)\n",
    "\n",
    "  # Loop through the slides in the JSON data\n",
    "  for key in ppt_info.keys():\n",
    "    slide_data = ppt_info[key]\n",
    "    if key == \"title_slide\":\n",
    "      slide_layout = presentation.slide_layouts[0]\n",
    "      slide = presentation.slides.add_slide(slide_layout)\n",
    "      fill = slide.background.fill\n",
    "      fill.solid()\n",
    "      fill.fore_color.rgb = slide_colour\n",
    "\n",
    "      title = slide.shapes.title\n",
    "      title.text = slide_data[\"title\"]\n",
    "      title_text_frame = title.text_frame\n",
    "      title_text_frame.paragraphs[0].runs[0].font.size = Pt(font_size + 4)\n",
    "      title_text_frame.paragraphs[0].runs[0].font.color.rgb = font_colour\n",
    "      title_text_frame.paragraphs[0].runs[0].font.bold = True\n",
    "      title_text_frame.paragraphs[0].alignment = PP_ALIGN.CENTER\n",
    "\n",
    "      subtitle_shape = slide.placeholders[1].text_frame\n",
    "      subtitle_shape.text = slide_data[\"subtitle\"]\n",
    "      subtitle_shape.paragraphs[0].runs[0].font.size = Pt(font_size + 2)\n",
    "      subtitle_shape.paragraphs[0].runs[0].font.color.rgb = font_colour\n",
    "      subtitle_shape.auto_size = MSO_AUTO_SIZE.TEXT_TO_FIT_SHAPE\n",
    "\n",
    "    elif key == \"outline_slide\":\n",
    "      slide_layout = presentation.slide_layouts[1]\n",
    "      slide = presentation.slides.add_slide(slide_layout)\n",
    "      fill = slide.background.fill\n",
    "      fill.solid()\n",
    "      fill.fore_color.rgb = slide_colour\n",
    "\n",
    "      title = slide.shapes.title\n",
    "      title.text = slide_data[\"title\"]\n",
    "      title_text_frame = title.text_frame\n",
    "      title_text_frame.paragraphs[0].runs[0].font.size = Pt(font_size + 4)\n",
    "      title_text_frame.paragraphs[0].runs[0].font.color.rgb = font_colour\n",
    "      title_text_frame.paragraphs[0].runs[0].font.bold = True\n",
    "      title_text_frame.paragraphs[0].alignment = PP_ALIGN.CENTER\n",
    "\n",
    "      content = slide.placeholders[1].text_frame\n",
    "      for bullet_point in slide_data[\"bullet_points\"]:\n",
    "          point = content.add_paragraph()\n",
    "          point.text = bullet_point\n",
    "          point.space_before = Inches(0.1)\n",
    "          point.space_after = Inches(0.1)\n",
    "          point.font.size = Pt(font_size)\n",
    "          point.font.color.rgb = font_colour\n",
    "          point.level = 0\n",
    "\n",
    "      content.left = presentation.slide_width / 2\n",
    "      content.top = presentation.slide_height / 2\n",
    "      content.auto_size = MSO_AUTO_SIZE.TEXT_TO_FIT_SHAPE\n",
    "\n",
    "    else:\n",
    "      # Add a new slide with title and content layout\n",
    "      slide_layout = presentation.slide_layouts[1]\n",
    "      slide = presentation.slides.add_slide(slide_layout)\n",
    "      fill = slide.background.fill\n",
    "      fill.solid()\n",
    "      fill.fore_color.rgb = slide_colour\n",
    "\n",
    "      # Set the slide title\n",
    "      title = slide.shapes.title\n",
    "      title.text = slide_data[\"title\"]\n",
    "      title_text_frame = title.text_frame\n",
    "      title_text_frame.paragraphs[0].runs[0].font.size = Pt(font_size + 2)\n",
    "      title_text_frame.paragraphs[0].runs[0].font.color.rgb = font_colour\n",
    "      title_text_frame.paragraphs[0].runs[0].font.bold = True\n",
    "      title_text_frame.paragraphs[0].alignment = PP_ALIGN.CENTER\n",
    "\n",
    "      # Add a text box\n",
    "      text_box_width = Inches(4)\n",
    "      text_box_height = Inches(2)\n",
    "      text_box_left = Inches(2.5)\n",
    "      text_box_top = Inches(1.5)\n",
    "      text_Box = slide.shapes.add_textbox(text_box_left, text_box_top, text_box_width, text_box_height)\n",
    "      tf = text_Box.text_frame\n",
    "      tf.text = slide_data[\"description\"]\n",
    "      tf.paragraphs[0].runs[0].font.size = Pt(font_size)\n",
    "      tf.paragraphs[0].runs[0].font.color.rgb = font_colour\n",
    "      tf.paragraphs[0].alignment = PP_ALIGN.CENTER\n",
    "      tf.auto_size = MSO_AUTO_SIZE.TEXT_TO_FIT_SHAPE\n",
    "\n",
    "      # Add bullet points\n",
    "      content = slide.placeholders[1].text_frame\n",
    "      for bullet_point in slide_data[\"bullet_points\"]:\n",
    "          point = content.add_paragraph()\n",
    "          point.text = bullet_point\n",
    "          point.space_before = Inches(0.1)\n",
    "          point.space_after = Inches(0.1)\n",
    "          point.font.size = Pt(font_size -  2)\n",
    "          point.font.color.rgb = font_colour\n",
    "          point.level = 0\n",
    "\n",
    "\n",
    "          point_explainer = content.add_paragraph()\n",
    "          if is_question(bullet_point):\n",
    "            point_explainer.text = get_question_explainer(bullet_point, topic)\n",
    "          else:\n",
    "            point_explainer.text = get_point_explainer(bullet_point)\n",
    "          point_explainer.font.size = Pt(font_size - 5)\n",
    "          point_explainer.font.color.rgb = font_colour\n",
    "          point_explainer.level = 1\n",
    "    \n",
    "      content.left = presentation.slide_width / 2\n",
    "      content.top = presentation.slide_height / 2\n",
    "      content.auto_size = MSO_AUTO_SIZE.TEXT_TO_FIT_SHAPE\n",
    "\n",
    "      # Add image if available\n",
    "      if slide_data[\"image\"]:\n",
    "          # Download the image (you need to have the 'requests' library installed)\n",
    "          img = \"\"\n",
    "          if image == \"AI\":\n",
    "            img = get_ai_img_for_ppt(slide_data[\"image\"])\n",
    "          elif image == \"Unsplash\":\n",
    "            response = requests.get(get_unsplash_img_for_ppt(slide_data[\"image\"]))\n",
    "            img = io.BytesIO(response.content)\n",
    "          elif image == \"Pixabay\":\n",
    "            response = requests.get(get_pixabay_img_for_ppt(slide_data[\"image\"]))\n",
    "            img = io.BytesIO(response.content)\n",
    "          elif image == \"Pexels\":\n",
    "            response = requests.get(get_pexels_img_for_ppt(slide_data[\"image\"]))\n",
    "            img = io.BytesIO(response.content)\n",
    "          elif image == \"Flickr\":\n",
    "            response = requests.get(get_flickr_img_for_ppt(slide_data[\"image\"]))\n",
    "            img = io.BytesIO(response.content)\n",
    "\n",
    "          # Add the image to the slide\n",
    "          left = Inches(9.5)\n",
    "          top = presentation.slide_height / 4\n",
    "          height = presentation.slide_height / 2\n",
    "          slide.shapes.add_picture(img, left, top, height=height)\n",
    "\n",
    "  # Save the presentation to a file\n",
    "  return presentation"
   ]
  },
  {
   "cell_type": "code",
   "execution_count": null,
   "metadata": {
    "colab": {
     "base_uri": "https://localhost:8080/"
    },
    "id": "_WgCOt5XsjJG",
    "outputId": "53a153f0-e29d-4bbf-eeb4-4a704440b0b7"
   },
   "outputs": [
    {
     "name": "stderr",
     "output_type": "stream",
     "text": [
      "Ignoring args : ('This must be treated as a question.',)\n"
     ]
    }
   ],
   "source": [
    "ppt = get_ppt(industry, purpose, topic, tone)\n",
    "ppt.save(\"ppt1.pptx\")"
   ]
  }
 ],
 "metadata": {
  "colab": {
   "provenance": []
  },
  "kernelspec": {
   "display_name": "Python 3 (ipykernel)",
   "language": "python",
   "name": "python3"
  },
  "language_info": {
   "codemirror_mode": {
    "name": "ipython",
    "version": 3
   },
   "file_extension": ".py",
   "mimetype": "text/x-python",
   "name": "python",
   "nbconvert_exporter": "python",
   "pygments_lexer": "ipython3",
   "version": "3.10.0"
  }
 },
 "nbformat": 4,
 "nbformat_minor": 1
}
